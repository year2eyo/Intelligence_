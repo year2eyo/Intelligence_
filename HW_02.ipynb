{
  "nbformat": 4,
  "nbformat_minor": 0,
  "metadata": {
    "colab": {
      "provenance": [],
      "authorship_tag": "ABX9TyO9sQV2FvaGtbs4EaFZelCK",
      "include_colab_link": true
    },
    "kernelspec": {
      "name": "python3",
      "display_name": "Python 3"
    },
    "language_info": {
      "name": "python"
    }
  },
  "cells": [
    {
      "cell_type": "markdown",
      "metadata": {
        "id": "view-in-github",
        "colab_type": "text"
      },
      "source": [
        "<a href=\"https://colab.research.google.com/github/year2eyo/Intelligence_/blob/main/HW_02.ipynb\" target=\"_parent\"><img src=\"https://colab.research.google.com/assets/colab-badge.svg\" alt=\"Open In Colab\"/></a>"
      ]
    },
    {
      "cell_type": "code",
      "execution_count": 2,
      "metadata": {
        "id": "WSbOMpk7AkyK"
      },
      "outputs": [],
      "source": [
        "import numpy as np\n",
        "from sklearn import datasets\n",
        "\n",
        "# X와 y 변수에 당뇨 데이터를 따로 분리해서 가져옴\n",
        "X, y = datasets.load_diabetes(return_X_y=True)\n",
        "\n",
        "# X_new 변수 = 2차원 + 세번째 데이터를 가져옴 (442, 1 행렬)\n",
        "X_new = X[:, np.newaxis, 2]"
      ]
    },
    {
      "cell_type": "code",
      "source": [
        "from sklearn.model_selection import train_test_split\n",
        "\n",
        "# 훈련 데이터와 테스트 데이터를 나눠줌\n",
        "# 10퍼 센트만 테스트 셋으로 사용할거임\n",
        "X_train, X_test, y_train, y_test = train_test_split(X_new, y, test_size = 0.1, random_state=0)\n",
        "\n",
        "\n",
        "X_train = X_train.reshape(-1, 1)\n",
        "y_train = y_train.reshape(-1, 1)\n",
        "X_test = X_test.reshape(-1, 1)\n",
        "y_test = y_test.reshape(-1, 1)\n",
        "\n",
        "\n",
        "print(X_train.shape)\n",
        "print(y_train.shape)\n",
        "print(X_test.shape)\n",
        "print(y_test.shape)"
      ],
      "metadata": {
        "colab": {
          "base_uri": "https://localhost:8080/"
        },
        "id": "LQLDoK98Bvje",
        "outputId": "406ddb14-78d2-401d-9613-70fc9dc6a10d"
      },
      "execution_count": 16,
      "outputs": [
        {
          "output_type": "stream",
          "name": "stdout",
          "text": [
            "(397, 1)\n",
            "(397, 1)\n",
            "(45, 1)\n",
            "(45, 1)\n"
          ]
        }
      ]
    },
    {
      "cell_type": "code",
      "source": [
        "# 시작점을 찾아야함  -> 학습할 파라미터\n",
        "W = 0\n",
        "b = 0\n",
        "\n",
        "l_rate = 0.01  # 학습률 = 알파\n",
        "epochs = 1000  # 반복 횟수\n"
      ],
      "metadata": {
        "id": "bJ5K_hWeCI2j"
      },
      "execution_count": 17,
      "outputs": []
    },
    {
      "cell_type": "code",
      "source": [
        "array_w = []    # 경사하강법 기울기에 해당하는 결과 값들 집합\n",
        "array_b=[]      # 경사하강법 절편에 해당하는 결과 값들 집합\n",
        "\n",
        "# 경사하강법\n",
        "for i in range (epochs):\n",
        "  y_pred = W * X_train + b # 예측값  / y1 = w*x1+b , y2 = w*x2+b , y3= w*x3 +b\n",
        "  array_w.append(W)\n",
        "  array_b.append(b)\n",
        "\n",
        "  dW = (2/len(X_train))  * np.sum(X_train * (y_pred - y_train ))\n",
        "  db = (2/len(X_train))  * np.sum( (y_pred - y_train ))\n",
        "  W = W -l_rate * dW\n",
        "  b = b - l_rate *db\n",
        "\n",
        "# 경사하강법에서 나온 기울기와 절편\n",
        "print(W,b)\n",
        "\n",
        "print(X_test.shape)\n",
        "print(y_pred.shape)"
      ],
      "metadata": {
        "colab": {
          "base_uri": "https://localhost:8080/"
        },
        "id": "TfNEph_nCiOQ",
        "outputId": "22d2b7e1-1aed-4f77-9172-bae1dc189dfa"
      },
      "execution_count": 23,
      "outputs": [
        {
          "output_type": "stream",
          "name": "stdout",
          "text": [
            "84.74965436588901 150.79678975345254\n",
            "(45, 1)\n",
            "(397, 1)\n"
          ]
        }
      ]
    },
    {
      "cell_type": "code",
      "source": [
        "array_w = np.array(array_w)\n",
        "array_b = np.array(array_b)\n",
        "\n",
        "\"\"\"\n",
        "print(array_w)\n",
        "print(array_b)\n",
        "\"\"\""
      ],
      "metadata": {
        "colab": {
          "base_uri": "https://localhost:8080/",
          "height": 35
        },
        "id": "vXiz7BZaEXIw",
        "outputId": "34aa6844-8883-4058-c81f-19108f5072be"
      },
      "execution_count": 24,
      "outputs": [
        {
          "output_type": "execute_result",
          "data": {
            "text/plain": [
              "'\\nprint(array_w)\\nprint(array_b)\\n'"
            ],
            "application/vnd.google.colaboratory.intrinsic+json": {
              "type": "string"
            }
          },
          "metadata": {},
          "execution_count": 24
        }
      ]
    },
    {
      "cell_type": "code",
      "source": [
        "# 예측 값을 만듦\n",
        "y_pred = W *X_test + b\n",
        "\n",
        "print(y_pred.shape)"
      ],
      "metadata": {
        "colab": {
          "base_uri": "https://localhost:8080/"
        },
        "id": "cwKyGSeFEdgk",
        "outputId": "c6e8de34-7c65-4c02-f03a-5a722d662bd5"
      },
      "execution_count": 25,
      "outputs": [
        {
          "output_type": "stream",
          "name": "stdout",
          "text": [
            "(45, 1)\n"
          ]
        }
      ]
    },
    {
      "cell_type": "code",
      "source": [
        "import matplotlib.pylab as plt\n",
        "\n",
        "y_pred = y_pred.flatten()\n",
        "X_test = X_test.flatten()\n",
        "\n",
        "plt.scatter(X_test,y_test)  # x,y 의 점을 찍음\n",
        "\n",
        "plt.plot (X_test, y_pred, color ='red', linewidth = 3)\n",
        "plt.show()"
      ],
      "metadata": {
        "colab": {
          "base_uri": "https://localhost:8080/",
          "height": 430
        },
        "id": "0_OQ3GzVE1c9",
        "outputId": "4e985856-bf70-4779-8128-c3c4b0583fe6"
      },
      "execution_count": 26,
      "outputs": [
        {
          "output_type": "display_data",
          "data": {
            "text/plain": [
              "<Figure size 640x480 with 1 Axes>"
            ],
            "image/png": "[encoded data removed]"
          },
          "metadata": {}
        }
      ]
    }
  ]
}